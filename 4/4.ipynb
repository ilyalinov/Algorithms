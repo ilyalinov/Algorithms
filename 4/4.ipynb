{
 "cells": [
  {
   "cell_type": "code",
   "execution_count": 2,
   "metadata": {
    "collapsed": true
   },
   "outputs": [],
   "source": [
    "import math\n",
    "import time\n",
    "import numpy as np\n",
    "import matplotlib.pyplot as plt\n",
    "import scipy.optimize"
   ]
  },
  {
   "cell_type": "markdown",
   "source": [
    "# Data generation"
   ],
   "metadata": {
    "collapsed": false,
    "pycharm": {
     "name": "#%% md\n"
    }
   }
  },
  {
   "cell_type": "code",
   "execution_count": 7,
   "outputs": [
    {
     "data": {
      "text/plain": "<Figure size 432x288 with 1 Axes>",
      "image/png": "[encoded data removed]"
     },
     "metadata": {
      "needs_background": "light"
     },
     "output_type": "display_data"
    }
   ],
   "source": [
    "eps = 1e-3\n",
    "x = np.zeros(1001)\n",
    "y = np.zeros(1001)\n",
    "for i in range(len(x)):\n",
    "    x[i] = 3 * i / 1000.0\n",
    "\n",
    "def f(x):\n",
    "    return 1 / (x**2 - 3 * x + 2)\n",
    "\n",
    "def add_noise(x, y, delta):\n",
    "    for i in range(len(x)):\n",
    "        if y[i] < -100:\n",
    "            y[i] = -100 + delta[i]\n",
    "        elif y[i] > 100:\n",
    "            y[i] = 100 + delta[i]\n",
    "        else:\n",
    "            y[i] = y[i] + delta[i]\n",
    "\n",
    "y = f(x)\n",
    "delta = np.random.normal(0, 1, 1001)\n",
    "add_noise(x, y, delta)\n",
    "\n",
    "plt.scatter(x, y)\n",
    "plt.show()"
   ],
   "metadata": {
    "collapsed": false,
    "pycharm": {
     "name": "#%%\n"
    }
   }
  },
  {
   "cell_type": "markdown",
   "source": [
    "# Functions definitions"
   ],
   "metadata": {
    "collapsed": false,
    "pycharm": {
     "name": "#%% md\n"
    }
   }
  },
  {
   "cell_type": "code",
   "execution_count": 4,
   "outputs": [],
   "source": [
    "def F(x, *args):\n",
    "    a, b, c, d = args\n",
    "    return (a * x + b) / (x**2 + c * x + d)\n",
    "\n",
    "def D(x, *args):\n",
    "    x1, y1, F = args\n",
    "    F1 = lambda y: F(y, x[0], x[1], x[2], x[3])\n",
    "    res = np.array(list(map(F1, x1)))\n",
    "    res = (res - y1)**2\n",
    "    return np.sum(res)\n",
    "\n",
    "def Dr(x, *args):\n",
    "    x1, y1, F = args\n",
    "    return F(x1, x[0], x[1], x[2], x[3]) - y1"
   ],
   "metadata": {
    "collapsed": false,
    "pycharm": {
     "name": "#%%\n"
    }
   }
  },
  {
   "cell_type": "markdown",
   "source": [
    "# NM method"
   ],
   "metadata": {
    "collapsed": false,
    "pycharm": {
     "name": "#%% md\n"
    }
   }
  },
  {
   "cell_type": "code",
   "execution_count": 30,
   "outputs": [
    {
     "name": "stdout",
     "output_type": "stream",
     "text": [
      "exec time:  0.5633838176727295\n",
      "Optimization terminated successfully.\n",
      "Number of iterations:  454\n",
      "Number of f evaluations:  769\n",
      "D value:  135934.4791658359\n",
      "[-1.00015952  1.00064055 -2.00088407  1.00090012]\n"
     ]
    },
    {
     "data": {
      "text/plain": "<Figure size 432x288 with 1 Axes>",
      "image/png": "[encoded data removed]"
     },
     "metadata": {
      "needs_background": "light"
     },
     "output_type": "display_data"
    }
   ],
   "source": [
    "start = time.time()\n",
    "resNM = scipy.optimize.minimize(D, np.array([1.0, 1.0, 1.0, 1.0]), args=(x, y, F), method='Nelder-Mead', tol=eps)\n",
    "stop = time.time()\n",
    "print(\"exec time: \", stop - start)\n",
    "print(resNM['message'])\n",
    "print(\"Number of iterations: \", resNM['nit'])\n",
    "print(\"Number of f evaluations: \", resNM['nfev'])\n",
    "print(\"D value: \", D(resNM['x'], x, y, F))\n",
    "print(resNM['x'])\n",
    "\n",
    "q, w, e, r = resNM['x'][0], resNM['x'][1], resNM['x'][2], resNM['x'][3]\n",
    "plt.plot(x, F(x, q, w, e, r), color='red')\n",
    "plt.scatter(x, y, color='blue')\n",
    "plt.show()"
   ],
   "metadata": {
    "collapsed": false,
    "pycharm": {
     "name": "#%%\n"
    }
   }
  },
  {
   "cell_type": "markdown",
   "source": [
    "# LM method"
   ],
   "metadata": {
    "collapsed": false
   }
  },
  {
   "cell_type": "code",
   "execution_count": 31,
   "outputs": [
    {
     "name": "stderr",
     "output_type": "stream",
     "text": [
      "No handles with labels found to put in legend.\n"
     ]
    },
    {
     "name": "stdout",
     "output_type": "stream",
     "text": [
      "`gtol` termination condition is satisfied.\n",
      "Function evaluations 135, initial cost 1.3404e+05, final cost 6.7970e+04, first-order optimality 1.10e+08.\n",
      "exec time:  0.003421783447265625\n",
      "D value:  135934.4791658359\n",
      "[-1.00085829  1.00131462 -2.00078719  1.00080324]\n"
     ]
    },
    {
     "data": {
      "text/plain": "<Figure size 432x288 with 1 Axes>",
      "image/png": "[encoded data removed]"
     },
     "metadata": {
      "needs_background": "light"
     },
     "output_type": "display_data"
    }
   ],
   "source": [
    "start = time.time()\n",
    "resLM = scipy.optimize.least_squares(Dr,\n",
    "                                    np.array([1.0, 1.0, 1.0, 1.0]),\n",
    "                                    args=(x, y, F),\n",
    "                                    method='lm',\n",
    "                                    xtol=1e-15,\n",
    "                                    gtol=eps,\n",
    "                                    ftol=1e-15,\n",
    "                                    verbose=1)\n",
    "stop = time.time()\n",
    "print(\"exec time: \", stop - start)\n",
    "print(\"D value: \", D(resNM['x'], x, y, F))\n",
    "# print(\"njev\", resLM['njev'])\n",
    "print(resLM['x'])\n",
    "\n",
    "q, w, e, r = resLM['x'][0], resLM['x'][1], resLM['x'][2], resLM['x'][3]\n",
    "plt.plot(x, F(x, q, w, e, r), color='red')\n",
    "plt.scatter(x, y, color='blue')\n",
    "plt.legend()\n",
    "plt.show()"
   ],
   "metadata": {
    "collapsed": false,
    "pycharm": {
     "name": "#%%\n"
    }
   }
  },
  {
   "cell_type": "markdown",
   "source": [
    "# Simulated annealing"
   ],
   "metadata": {
    "collapsed": false
   }
  },
  {
   "cell_type": "code",
   "execution_count": 8,
   "outputs": [
    {
     "name": "stderr",
     "output_type": "stream",
     "text": [
      "No handles with labels found to put in legend.\n"
     ]
    },
    {
     "name": "stdout",
     "output_type": "stream",
     "text": [
      "exec time:  6.599733829498291\n",
      "['Maximum number of iteration reached']\n",
      "Number of iterations:  1000\n",
      "Number of f evaluations:  8931\n",
      "D value:  136106.11435309696\n",
      "[-1.00123663  1.00172562 -2.00096775  1.00098401]\n"
     ]
    },
    {
     "data": {
      "text/plain": "<Figure size 432x288 with 1 Axes>",
      "image/png": "[encoded data removed]"
     },
     "metadata": {
      "needs_background": "light"
     },
     "output_type": "display_data"
    }
   ],
   "source": [
    "l_min = [-10.0] * 4\n",
    "l_max = [10.0] * 4\n",
    "start = time.time()\n",
    "resSA = scipy.optimize.dual_annealing(D,\n",
    "                                      bounds=list(zip(l_min, l_max)),\n",
    "                                      # visit=1,\n",
    "                                      # accept=1,\n",
    "                                      args=(x, y, F),\n",
    "                                      x0=np.array([1.0, 1.0, 1.0, 1.0]))\n",
    "stop = time.time()\n",
    "print(\"exec time: \", stop - start)\n",
    "q, w, e, r = resSA['x'][0], resSA['x'][1], resSA['x'][2], resSA['x'][3]\n",
    "print(resSA['message'])\n",
    "print(\"Number of iterations: \", resSA['nit'])\n",
    "print(\"Number of f evaluations: \", resSA['nfev'])\n",
    "print(\"D value: \", resSA['fun'])\n",
    "print(resSA['x'])\n",
    "plt.plot(x, F(x, q, w, e, r), color='red')\n",
    "plt.scatter(x, y, color='blue')\n",
    "plt.legend()\n",
    "plt.show()"
   ],
   "metadata": {
    "collapsed": false,
    "pycharm": {
     "name": "#%%\n"
    }
   }
  },
  {
   "cell_type": "markdown",
   "source": [
    "# Differential evolution"
   ],
   "metadata": {
    "collapsed": false,
    "pycharm": {
     "name": "#%% md\n"
    }
   }
  },
  {
   "cell_type": "code",
   "execution_count": 11,
   "outputs": [
    {
     "name": "stderr",
     "output_type": "stream",
     "text": [
      "No handles with labels found to put in legend.\n"
     ]
    },
    {
     "name": "stdout",
     "output_type": "stream",
     "text": [
      "Optimization terminated successfully.\n",
      "exec time:  7.641337156295776\n",
      "Number of iterations:  166\n",
      "number of f evaluations:  10120\n",
      "D value:  136011.6135571356\n",
      "166\n",
      "[ 0.99966662 -1.99880013 -3.99897597  3.99796804]\n"
     ]
    },
    {
     "data": {
      "text/plain": "<Figure size 432x288 with 1 Axes>",
      "image/png": "[encoded data removed]"
     },
     "metadata": {
      "needs_background": "light"
     },
     "output_type": "display_data"
    }
   ],
   "source": [
    "start = time.time()\n",
    "resDF = scipy.optimize.differential_evolution(D,\n",
    "                                      bounds=list(zip(l_min, l_max)),\n",
    "                                      maxiter=1000,\n",
    "                                      tol = eps,\n",
    "                                      args=(x, y, F),\n",
    "                                      x0=np.array([1.0, 1.0, 1.0, 1.0]))\n",
    "stop = time.time()\n",
    "print(resDF.message)\n",
    "print(\"exec time: \", stop - start)\n",
    "print(\"Number of iterations: \", resDF['nit'])\n",
    "print(\"number of f evaluations: \", resDF.nfev)\n",
    "print(\"D value: \", D(resDF['x'], x, y, F))\n",
    "print(resDF.nit)\n",
    "print(resDF['x'])\n",
    "\n",
    "q, w, e, r = resDF['x'][0], resDF['x'][1], resDF['x'][2], resDF['x'][3]\n",
    "plt.plot(x, F(x, q, w, e, r), color='red')\n",
    "plt.scatter(x, y, color='blue')\n",
    "plt.legend()\n",
    "plt.show()"
   ],
   "metadata": {
    "collapsed": false,
    "pycharm": {
     "name": "#%%\n"
    }
   }
  },
  {
   "cell_type": "markdown",
   "source": [
    "# Plot"
   ],
   "metadata": {
    "collapsed": false,
    "pycharm": {
     "name": "#%% md\n"
    }
   }
  },
  {
   "cell_type": "code",
   "execution_count": 44,
   "outputs": [
    {
     "data": {
      "text/plain": "<Figure size 432x288 with 1 Axes>",
      "image/png": "[encoded data removed]"
     },
     "metadata": {
      "needs_background": "light"
     },
     "output_type": "display_data"
    }
   ],
   "source": [
    "q, w, e, r = resNM['x'][0], resNM['x'][1], resNM['x'][2], resNM['x'][3]\n",
    "plt.plot(x, F(x, q, w, e, r), color='red', label='NM')\n",
    "q, w, e, r = resLM['x'][0], resLM['x'][1], resLM['x'][2], resLM['x'][3]\n",
    "plt.plot(x, F(x, q, w, e, r), color='green', label='LM')\n",
    "q, w, e, r = resSA['x'][0], resSA['x'][1], resSA['x'][2], resSA['x'][3]\n",
    "plt.plot(x, F(x, q, w, e, r), color='black', label='SA')\n",
    "q, w, e, r = resDF['x'][0], resDF['x'][1], resDF['x'][2], resDF['x'][3]\n",
    "plt.plot(x, F(x, q, w, e, r), color='yellow', label='DF')\n",
    "plt.scatter(x, y, color='blue', label='data')\n",
    "plt.legend()\n",
    "plt.savefig(\"plot.png\", dpi=200, bbox_inches='tight')\n",
    "plt.show()\n",
    "\n"
   ],
   "metadata": {
    "collapsed": false,
    "pycharm": {
     "name": "#%%\n"
    }
   }
  }
 ],
 "metadata": {
  "kernelspec": {
   "display_name": "Python 3",
   "language": "python",
   "name": "python3"
  },
  "language_info": {
   "codemirror_mode": {
    "name": "ipython",
    "version": 2
   },
   "file_extension": ".py",
   "mimetype": "text/x-python",
   "name": "python",
   "nbconvert_exporter": "python",
   "pygments_lexer": "ipython2",
   "version": "2.7.6"
  }
 },
 "nbformat": 4,
 "nbformat_minor": 0
}